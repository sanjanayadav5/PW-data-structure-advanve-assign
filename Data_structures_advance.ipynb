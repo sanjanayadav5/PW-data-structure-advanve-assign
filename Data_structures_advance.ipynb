{
  "nbformat": 4,
  "nbformat_minor": 0,
  "metadata": {
    "colab": {
      "provenance": []
    },
    "kernelspec": {
      "name": "python3",
      "display_name": "Python 3"
    },
    "language_info": {
      "name": "python"
    }
  },
  "cells": [
    {
      "cell_type": "markdown",
      "source": [
        "Q.1.Write code to reverse string.\n"
      ],
      "metadata": {
        "id": "avBcCZELe36G"
      }
    },
    {
      "cell_type": "code",
      "execution_count": null,
      "metadata": {
        "colab": {
          "base_uri": "https://localhost:8080/",
          "height": 36
        },
        "id": "sT-_XvLOe2mb",
        "outputId": "ca53183e-dfea-43ef-b89e-e2bb35774ba8"
      },
      "outputs": [
        {
          "output_type": "execute_result",
          "data": {
            "text/plain": [
              "'ecneicS ataD'"
            ],
            "application/vnd.google.colaboratory.intrinsic+json": {
              "type": "string"
            }
          },
          "metadata": {},
          "execution_count": 1
        }
      ],
      "source": [
        "course = \"Data Science\"\n",
        "course[::-1]"
      ]
    },
    {
      "cell_type": "markdown",
      "source": [
        "Q.2.Write code to count the number of vowels in string."
      ],
      "metadata": {
        "id": "nh4kP9sgfC92"
      }
    },
    {
      "cell_type": "code",
      "source": [
        "text = \"I want to become a data_scientist\"\n",
        "vowels = \"aeiouAEIOU\"\n",
        "vowel_count = sum(1 for char in text if char in vowels)\n",
        "print(f\"The number of vowels in the text is: {vowel_count}\")"
      ],
      "metadata": {
        "id": "j9ZpLsyzfBb3",
        "colab": {
          "base_uri": "https://localhost:8080/"
        },
        "outputId": "75fc3269-0941-4006-adc5-066a17bf58fe"
      },
      "execution_count": 1,
      "outputs": [
        {
          "output_type": "stream",
          "name": "stdout",
          "text": [
            "The number of vowels in the text is: 12\n"
          ]
        }
      ]
    },
    {
      "cell_type": "code",
      "source": [
        "text = \"I want to become a data_scientist\"\n",
        "vowels = \"aeiouAEIOU\"\n",
        "vowel_count = sum(char in vowels for char in text)\n",
        "print(f\"The number of vowels in the text is: {vowel_count}\")"
      ],
      "metadata": {
        "id": "Cay2xOakj96S",
        "colab": {
          "base_uri": "https://localhost:8080/"
        },
        "outputId": "313879c8-9c87-4fa7-811f-47b9d4e47058"
      },
      "execution_count": 2,
      "outputs": [
        {
          "output_type": "stream",
          "name": "stdout",
          "text": [
            "The number of vowels in the text is: 12\n"
          ]
        }
      ]
    },
    {
      "cell_type": "markdown",
      "source": [
        "Q.3.Write code to check if the given string is palindrome or\n",
        "not."
      ],
      "metadata": {
        "id": "EHYFcGerfBKn"
      }
    },
    {
      "cell_type": "code",
      "source": [
        "word = input(\"enter a word: \")\n",
        "palindrome = word[::-1]\n",
        "if word == palindrome:\n",
        " print(f\"the given word {word} is a palindrome\")\n",
        "else:\n",
        " print(f\"the given word {word} is not a palindrome\")"
      ],
      "metadata": {
        "id": "VpB0ietwfA8t",
        "colab": {
          "base_uri": "https://localhost:8080/"
        },
        "outputId": "12dc323c-edd2-4cb0-d9d7-49f4bdd2c1fd"
      },
      "execution_count": 3,
      "outputs": [
        {
          "output_type": "stream",
          "name": "stdout",
          "text": [
            "enter a word: sanjana\n",
            "the given word sanjana is not a palindrome\n"
          ]
        }
      ]
    },
    {
      "cell_type": "markdown",
      "source": [
        "Q.4.Write code to check if two given string are anagrams\n",
        "of each other."
      ],
      "metadata": {
        "id": "d0yf3AepfAs1"
      }
    },
    {
      "cell_type": "code",
      "source": [
        "str1 = input(\"Enter the first string: \")\n",
        "str2 = input(\"Enter the second string: \")\n",
        "def anagrams(str1,str2):\n",
        " str1 = str1.replace(\" \", \"\").lower()\n",
        " str2 = str2.replace(\" \", \"\").lower()\n",
        "\n",
        " return sorted(str1) == sorted(str2)\n",
        "if anagrams(str1,str2):\n",
        " print(f\"{str1} and {str2} are anagrams\")\n",
        "else:\n",
        " print(f\"{str1} and {str2} are not anagrams\")\n"
      ],
      "metadata": {
        "id": "1Uioj9bJfVgH",
        "colab": {
          "base_uri": "https://localhost:8080/"
        },
        "outputId": "2e425248-b84b-488b-e9db-3ccc5cd16b49"
      },
      "execution_count": 4,
      "outputs": [
        {
          "output_type": "stream",
          "name": "stdout",
          "text": [
            "Enter the first string: sanjana\n",
            "Enter the second string: yadav\n",
            "sanjana and yadav are not anagrams\n"
          ]
        }
      ]
    },
    {
      "cell_type": "markdown",
      "source": [
        "Q.5. Write code to find all occurrences of a given substring\n",
        "within another string"
      ],
      "metadata": {
        "id": "JYd3OUbvfbYZ"
      }
    },
    {
      "cell_type": "code",
      "source": [
        "import re\n",
        "def find_substring_occurrences(text, substring):\n",
        " # Use re.finditer to find all matches of the substring in the text\n",
        " matches = re.finditer(re.escape(substring), text)\n",
        " # Get the starting indices of each match\n",
        " positions = [match.start() for match in matches]\n",
        " return positions\n",
        "# Example usage\n",
        "text ='''Jack quickly realized that the big lazy dog was blocking his\n",
        "path The sun was setting casting a golden hue over the quiet village\n",
        "Suddenly a quick brown fox darted across the road making Jack jump\n",
        "back in surprise.'''\n",
        "substring = \"Jack\"\n",
        "positions = find_substring_occurrences(text, substring)\n",
        "print(f\"The substring '{substring}' occurs at positions: {positions}\")\n"
      ],
      "metadata": {
        "id": "OciA1Tf9fge4",
        "colab": {
          "base_uri": "https://localhost:8080/"
        },
        "outputId": "f88055b1-d34a-4009-f0f3-66f77351d14c"
      },
      "execution_count": 5,
      "outputs": [
        {
          "output_type": "stream",
          "name": "stdout",
          "text": [
            "The substring 'Jack' occurs at positions: [0, 187]\n"
          ]
        }
      ]
    },
    {
      "cell_type": "markdown",
      "source": [
        "Q.6. Write code to perform besic string compression using\n",
        "the counts of repeated characters.\n"
      ],
      "metadata": {
        "id": "ymFsJEK8fmNI"
      }
    },
    {
      "cell_type": "code",
      "source": [
        "def compress_string(s):\n",
        " compressed = []\n",
        " count = 1\n",
        " for i in range(1, len(s)):\n",
        "  if s[i] == s[i - 1]:\n",
        "    count += 1\n",
        "  else:\n",
        "    compressed.append(s[i - 1] + str(count))\n",
        "    count = 1\n",
        "    compressed.append(s[-1] + str(count))\n",
        "    compressed_string = ''.join(compressed)\n",
        "    return compressed_string if len(compressed_string) < len(s) else s\n",
        "# Example usage\n",
        "input_string = \"aabcccccaaa\"\n",
        "compressed_string = compress_string(input_string)\n",
        "print(f\"Original string: {input_string}\")\n",
        "print(f\"Compressed string: {compressed_string}\")"
      ],
      "metadata": {
        "id": "Nd09J2VkfxvY",
        "colab": {
          "base_uri": "https://localhost:8080/"
        },
        "outputId": "6319c26a-6d79-4f51-ef49-ff1fc48d48cc"
      },
      "execution_count": 9,
      "outputs": [
        {
          "output_type": "stream",
          "name": "stdout",
          "text": [
            "Original string: aabcccccaaa\n",
            "Compressed string: a2a1\n"
          ]
        }
      ]
    },
    {
      "cell_type": "markdown",
      "source": [
        "Q.7. Write coode to determine if string has all unique\n",
        "characters."
      ],
      "metadata": {
        "id": "8iEbeY8Cf0xF"
      }
    },
    {
      "cell_type": "code",
      "source": [
        "def has_unique_characters(s):\n",
        " char_set = set()\n",
        " for char in s:\n",
        "  if char in char_set:\n",
        "    return False\n",
        "    char_set.add(char)\n",
        "    return True\n",
        "# Example usage\n",
        "input_string = \"abcdefg\"\n",
        "result = has_unique_characters(input_string)\n",
        "print(f\"The string '{input_string}' has all unique characters:{result}\")\n",
        "input_string = \"hello\"\n",
        "result = has_unique_characters(input_string)\n",
        "print(f\"The string '{input_string}' has all unique characters:{result}\")\n"
      ],
      "metadata": {
        "id": "GtMWFAcGf5MM",
        "colab": {
          "base_uri": "https://localhost:8080/"
        },
        "outputId": "87e9c760-3796-41ce-9411-2e6f3f5476d7"
      },
      "execution_count": 12,
      "outputs": [
        {
          "output_type": "stream",
          "name": "stdout",
          "text": [
            "The string 'abcdefg' has all unique characters:None\n",
            "The string 'hello' has all unique characters:None\n"
          ]
        }
      ]
    },
    {
      "cell_type": "markdown",
      "source": [
        "Q.8.Write coode to convert a given string to uppercase or\n",
        "lowercase"
      ],
      "metadata": {
        "id": "umVYaXaDf8YD"
      }
    },
    {
      "cell_type": "code",
      "source": [
        "def convert_to_uppercase(s):\n",
        " return s.upper()\n",
        "def convert_to_lowercase(s):\n",
        " return s.lower()\n",
        "input_string = \"Manu Bhakar wins broze, becomes first Indian women to win shooting medal at Olympics \"\n",
        "uppercase_string = convert_to_uppercase(input_string)\n",
        "print(f\"Uppercase: {uppercase_string}\")\n",
        "lowercase_string = convert_to_lowercase(input_string)\n",
        "print(f\"Lowercase: {lowercase_string}\")\n"
      ],
      "metadata": {
        "id": "dJaYnGMEf-lT",
        "colab": {
          "base_uri": "https://localhost:8080/"
        },
        "outputId": "b18b5f39-6475-4be2-b2ce-f8a971821fe6"
      },
      "execution_count": 13,
      "outputs": [
        {
          "output_type": "stream",
          "name": "stdout",
          "text": [
            "Uppercase: MANU BHAKAR WINS BROZE, BECOMES FIRST INDIAN WOMEN TO WIN SHOOTING MEDAL AT OLYMPICS \n",
            "Lowercase: manu bhakar wins broze, becomes first indian women to win shooting medal at olympics \n"
          ]
        }
      ]
    },
    {
      "cell_type": "markdown",
      "source": [
        "Q.9.Write coode to count the number of words in a string."
      ],
      "metadata": {
        "id": "Xb1HpguKgCwt"
      }
    },
    {
      "cell_type": "code",
      "source": [
        "a = \"I want to participate in the Olympic Games.\"\n",
        "len(a.split())\n"
      ],
      "metadata": {
        "id": "Fg3ew2hdgCTH",
        "colab": {
          "base_uri": "https://localhost:8080/"
        },
        "outputId": "cf6eea71-c220-4c13-fe77-f3570f368a39"
      },
      "execution_count": 14,
      "outputs": [
        {
          "output_type": "execute_result",
          "data": {
            "text/plain": [
              "8"
            ]
          },
          "metadata": {},
          "execution_count": 14
        }
      ]
    },
    {
      "cell_type": "markdown",
      "source": [
        "Q.10.Write a code to concatenate two strings without\n",
        "using the + operator."
      ],
      "metadata": {
        "id": "qcqIdmWNgLVO"
      }
    },
    {
      "cell_type": "code",
      "source": [
        "def concatenate_strings(str1, str2):\n",
        " return f\"{str1}{str2}\"\n",
        "string1 = \"Play \"\n",
        "string2 = \"Store\"\n",
        "result = concatenate_strings(string1, string2)\n",
        "print(result)\n"
      ],
      "metadata": {
        "id": "ZPhxbg_AgNc6",
        "colab": {
          "base_uri": "https://localhost:8080/"
        },
        "outputId": "14de7132-2120-442c-f980-e9224d751d2c"
      },
      "execution_count": 15,
      "outputs": [
        {
          "output_type": "stream",
          "name": "stdout",
          "text": [
            "Play Store\n"
          ]
        }
      ]
    },
    {
      "cell_type": "markdown",
      "source": [
        "Q.11.Write a code to remove all occurrences of a specific\n",
        "element from a list."
      ],
      "metadata": {
        "id": "ZP0lOPFDgCBr"
      }
    },
    {
      "cell_type": "code",
      "source": [
        "l = [1,2,3,4,5,3,5,6,7,5,3]\n",
        "set(l)\n",
        "{1, 2, 3, 4, 5, 6, 7}\n",
        "def occurrences_element(lst, element):\n",
        " return list(filter(lambda x: x != element, lst))\n",
        "# Example usage\n",
        "my_list = [1, 7, 3, 4, 2, 5, 7,3,3]\n",
        "element_to_remove = 3\n",
        "new_list = occurrences_element(my_list, element_to_remove)\n",
        "print(new_list)\n"
      ],
      "metadata": {
        "id": "q8u8XnmFgTh8",
        "colab": {
          "base_uri": "https://localhost:8080/"
        },
        "outputId": "85555d69-fb6f-4f73-c733-339c5cb6da73"
      },
      "execution_count": 16,
      "outputs": [
        {
          "output_type": "stream",
          "name": "stdout",
          "text": [
            "[1, 7, 4, 2, 5, 7]\n"
          ]
        }
      ]
    },
    {
      "cell_type": "markdown",
      "source": [
        "Q.12.Implement a code to find the second largest number\n",
        "in a given list of integers."
      ],
      "metadata": {
        "id": "oUu6iOmFgWWH"
      }
    },
    {
      "cell_type": "code",
      "source": [
        "list = [2,3,4,5,6,78,56,4,5,67]\n",
        "sorted(list)[-2]\n",
        "67\n",
        "def find_second_largest(numbers):\n",
        " return sorted(set(numbers))[-2] if len(set(numbers)) > 1 else None\n",
        "# Example usage\n",
        "numbers_list = [111,1232,32,122,564,2231,42334,5555,3333,78867,1991]\n",
        "second_largest = find_second_largest(numbers_list)\n",
        "print(\"The second largest number is:\", second_largest)"
      ],
      "metadata": {
        "id": "qPIaDX6OgZWa",
        "colab": {
          "base_uri": "https://localhost:8080/"
        },
        "outputId": "788750ba-e8a7-4fe5-b63a-05eb8340748b"
      },
      "execution_count": 17,
      "outputs": [
        {
          "output_type": "stream",
          "name": "stdout",
          "text": [
            "The second largest number is: 42334\n"
          ]
        }
      ]
    },
    {
      "cell_type": "markdown",
      "source": [
        "Q.13.Create a code to count the occurrence of each\n",
        "element in a list and return a dictionary with elements as\n",
        "keys and their counts as vlues."
      ],
      "metadata": {
        "id": "Yv4LefbDgcJX"
      }
    },
    {
      "cell_type": "code",
      "source": [
        "from collections import Counter\n",
        "def count_occurrences(lst):\n",
        " return dict(Counter(lst))\n",
        "# Example usage\n",
        "elements = ['apple', 'banana', 'apple', 'orange', 'banana', 'apple']\n",
        "occurrences = count_occurrences(elements)\n",
        "print(occurrences)\n"
      ],
      "metadata": {
        "id": "toajiScAgeFU"
      },
      "execution_count": null,
      "outputs": []
    },
    {
      "cell_type": "markdown",
      "source": [
        "Q.14.Write a code to reverce a list in-place without using\n",
        "any built-in reverce functions."
      ],
      "metadata": {
        "id": "Tucw6iFfgkVE"
      }
    },
    {
      "cell_type": "code",
      "source": [
        "numbers = [1, 2, 3, 4, 5]\n",
        "numbers[::-1]\n",
        "[5, 4, 3, 2, 1]\n",
        "def reverse_list(lst):\n",
        " left = 0\n",
        " right = len(lst) - 1\n",
        " while left < right:\n",
        "  lst[left], lst[right] = lst[right], lst[left]\n",
        "  left += 1\n",
        "  right -= 1\n",
        "  numbers = [10, 20, 30, 45, 50]\n",
        "  reverse_list(numbers)\n",
        "  print(numbers)"
      ],
      "metadata": {
        "id": "a7Zolu8DglRc"
      },
      "execution_count": 23,
      "outputs": []
    },
    {
      "cell_type": "markdown",
      "source": [
        "Q.15. Implement a code to find and remove duplicates\n",
        "from a list while preserving the original order of elements."
      ],
      "metadata": {
        "id": "g3WM1Uo8gov_"
      }
    },
    {
      "cell_type": "code",
      "source": [
        "def remove_duplicates(lst):\n",
        " numbers = set()\n",
        " return [x for x in lst if not (x in numbers or numbers.add(x))]\n",
        "numbers = [1, 2, 2, 3, 4, 3, 5, 6, 6, 7]\n",
        "unique_numbers = remove_duplicates(numbers)\n",
        "print(unique_numbers)"
      ],
      "metadata": {
        "id": "X_p6BPgmgqvX",
        "colab": {
          "base_uri": "https://localhost:8080/"
        },
        "outputId": "6da1bb06-2ebe-4bcd-9672-c21110c2d47d"
      },
      "execution_count": 24,
      "outputs": [
        {
          "output_type": "stream",
          "name": "stdout",
          "text": [
            "[1, 2, 3, 4, 5, 6, 7]\n"
          ]
        }
      ]
    },
    {
      "cell_type": "markdown",
      "source": [
        "Q.16. Create a code to check if a given list is sorted (either\n",
        "in asending or descending order) or not."
      ],
      "metadata": {
        "id": "ENte5iJUgtKi"
      }
    },
    {
      "cell_type": "code",
      "source": [
        "def is_sorted(lst):\n",
        " return lst == sorted(lst) or lst == sorted(lst, reverse=True)\n",
        "list1 = [1, 2, 3, 4, 5]\n",
        "list2 = [5, 4, 3, 2, 1]\n",
        "list3 = [1, 3, 2, 4, 5]\n",
        "print(is_sorted(list1)) # Output: True (ascending)\n",
        "print(is_sorted(list2)) # Output: True (descending)\n",
        "print(is_sorted(list3))"
      ],
      "metadata": {
        "id": "OzB6l5gFg1my",
        "colab": {
          "base_uri": "https://localhost:8080/"
        },
        "outputId": "3f682129-1a31-4d82-8f20-7f084299347e"
      },
      "execution_count": 21,
      "outputs": [
        {
          "output_type": "stream",
          "name": "stdout",
          "text": [
            "True\n",
            "True\n",
            "False\n"
          ]
        }
      ]
    },
    {
      "cell_type": "markdown",
      "source": [
        "Q.17.Write a code to merge two sorted lists into a single\n",
        "sorted list"
      ],
      "metadata": {
        "id": "P69xOBUng4Ja"
      }
    },
    {
      "cell_type": "code",
      "source": [
        "def merge_sorted_lists(list1, list2):\n",
        " return sorted(list1 + list2)\n",
        "# Example usage\n",
        "list1 = [1, 3, 5, 7]\n",
        "list2 = [2, 4, 6, 8]\n",
        "result = merge_sorted_lists(list1, list2)\n",
        "print(result)"
      ],
      "metadata": {
        "id": "BgRHLBFag6Sv",
        "colab": {
          "base_uri": "https://localhost:8080/"
        },
        "outputId": "babd1eed-30dc-42c7-f7dc-fad980467f43"
      },
      "execution_count": 25,
      "outputs": [
        {
          "output_type": "stream",
          "name": "stdout",
          "text": [
            "[1, 2, 3, 4, 5, 6, 7, 8]\n"
          ]
        }
      ]
    },
    {
      "cell_type": "markdown",
      "source": [
        "Q.18. Implement a code to find the intersection of two\n",
        "given lists."
      ],
      "metadata": {
        "id": "d2sfTLung8N_"
      }
    },
    {
      "cell_type": "code",
      "source": [
        "def find_intersection(list1, list2):\n",
        " return [item for item in list1 if item in list2]\n",
        "list1 = [1, 2, 2, 3, 4]\n",
        "list2 = [2, 3, 5]\n",
        "result = find_intersection(list1, list2)\n",
        "print(result)\n"
      ],
      "metadata": {
        "id": "5yeOe0VSg-uU",
        "colab": {
          "base_uri": "https://localhost:8080/"
        },
        "outputId": "e855d4e6-2888-4ada-e9f9-d235f08666be"
      },
      "execution_count": 26,
      "outputs": [
        {
          "output_type": "stream",
          "name": "stdout",
          "text": [
            "[2, 2, 3]\n"
          ]
        }
      ]
    },
    {
      "cell_type": "markdown",
      "source": [
        "Q.19.Create a code to find the union of two lists without\n",
        "duplicates."
      ],
      "metadata": {
        "id": "BrgbpKKjhCPn"
      }
    },
    {
      "cell_type": "code",
      "source": [
        "def find_union(lst1, lst2):\n",
        " seen = set()\n",
        " return [item for item in lst1 + lst2 if not (item in seen or seen.add(item))]\n",
        "my_list1 = [3, 5, 5, 8, 4]\n",
        "my_list2 = [3, 5, 9, 6]\n",
        "result = find_union(my_list1, my_list2)\n",
        "print(result)"
      ],
      "metadata": {
        "id": "ei7l_m0XhQ7h",
        "colab": {
          "base_uri": "https://localhost:8080/"
        },
        "outputId": "f20a3e73-213b-4a65-9f3b-38d41d03215d"
      },
      "execution_count": 27,
      "outputs": [
        {
          "output_type": "stream",
          "name": "stdout",
          "text": [
            "[3, 5, 8, 4, 9, 6]\n"
          ]
        }
      ]
    },
    {
      "cell_type": "markdown",
      "source": [
        "Q.20. Write a code to shuffle a given list randomaly\n",
        "without using any built-in shuffle functions."
      ],
      "metadata": {
        "id": "Ow88YFOghUSB"
      }
    },
    {
      "cell_type": "code",
      "source": [
        "import random\n",
        "from itertools import permutations\n",
        "def random_permutation(lst):\n",
        "  all_permutations = list(permutations(lst))\n",
        "  return list(random.choice(all_permutations))\n",
        "# Example usage\n",
        "my_list = [1, 2, 3, 4, 5]\n",
        "shuffled_list = random_permutation(my_list)\n",
        "print(shuffled_list)\n"
      ],
      "metadata": {
        "id": "N_F7JH3xhXNx"
      },
      "execution_count": null,
      "outputs": []
    },
    {
      "cell_type": "markdown",
      "source": [
        "Q.21.Write a code that takes two tuples as input and\n",
        "returns a new tuple containing elements that are common\n",
        "to both input tuples"
      ],
      "metadata": {
        "id": "It-pwaP9haVU"
      }
    },
    {
      "cell_type": "code",
      "source": [
        "def common_elements_tuple_ordered(tuple1, tuple2):\n",
        " set2 = set(tuple2)\n",
        "\n",
        " common_elements = tuple(el for el in tuple1 if el in set2)\n",
        "\n",
        " return common_elements\n",
        "tuple1 = (1, 2, 3, 4, 5)\n",
        "tuple2 = (4, 5, 6, 7, 8)\n",
        "result = common_elements_tuple_ordered(tuple1, tuple2)\n",
        "print(result)"
      ],
      "metadata": {
        "id": "JNYkJ8N9hZ1w",
        "colab": {
          "base_uri": "https://localhost:8080/"
        },
        "outputId": "9ba7cc61-dad6-418d-e365-f1381cda64a0"
      },
      "execution_count": 31,
      "outputs": [
        {
          "output_type": "stream",
          "name": "stdout",
          "text": [
            "(4, 5)\n"
          ]
        }
      ]
    },
    {
      "cell_type": "markdown",
      "source": [
        "Q.22.Create a code that prompts the user to enter two sets\n",
        "of integers separated by commas. Then, print the\n",
        "intersection of these two sets."
      ],
      "metadata": {
        "id": "TP4kaLdohhAh"
      }
    },
    {
      "cell_type": "code",
      "source": [
        "\n",
        "def intersection_of_sets():\n",
        " # Prompt the user to enter the first set\n",
        " set1_input = input(\"Enter the first set of integers separated by commas: \")\n",
        "\n",
        " # Prompt the user to enter the second set\n",
        " set2_input = input(\"Enter the second set of integers separated by commas: \")\n",
        "\n",
        " # Convert the input strings to sets of integers\n",
        " set1 = set(map(int, set1_input.split(\",\")))\n",
        " set2 = set(map(int, set2_input.split(\",\")))\n",
        "\n",
        " # Find the intersection of the two sets\n",
        " intersection = set1.intersection(set2)\n",
        "\n",
        " # Print the intersection\n",
        " print(\"The intersection of the two sets is:\", intersection)\n",
        "# Call the function to start the program\n",
        "intersection_of_sets()\n"
      ],
      "metadata": {
        "id": "xOalcJ9ohhz7",
        "colab": {
          "base_uri": "https://localhost:8080/"
        },
        "outputId": "6140c60d-7eb8-4d73-9655-ed68534526c3"
      },
      "execution_count": 33,
      "outputs": [
        {
          "output_type": "stream",
          "name": "stdout",
          "text": [
            "Enter the first set of integers separated by commas: 1,2,3,4\n",
            "Enter the second set of integers separated by commas: 5,6,7,8\n",
            "The intersection of the two sets is: set()\n"
          ]
        }
      ]
    },
    {
      "cell_type": "markdown",
      "source": [
        "Q.23. Write a code to concatenate two tuples. The function\n",
        "should take two tuples as input and return a new tuple\n",
        "containing elements from both input tuples."
      ],
      "metadata": {
        "id": "0XSVdQmShm8k"
      }
    },
    {
      "cell_type": "code",
      "source": [
        "def concatenate_tuples(tuple1, tuple2):\n",
        " result = tuple1 + tuple2\n",
        " return result\n",
        "tuple1 = (1, 2, 3)\n",
        "tuple2 = (4, 5, 6)\n",
        "result = concatenate_tuples(tuple1, tuple2)\n",
        "print(result)"
      ],
      "metadata": {
        "id": "k92ZbRBHhnwb",
        "colab": {
          "base_uri": "https://localhost:8080/"
        },
        "outputId": "296e571d-d629-4a58-b1f6-e77eb999abeb"
      },
      "execution_count": 34,
      "outputs": [
        {
          "output_type": "stream",
          "name": "stdout",
          "text": [
            "(1, 2, 3, 4, 5, 6)\n"
          ]
        }
      ]
    },
    {
      "cell_type": "markdown",
      "source": [
        "Q.24 Develop a code that prompts the user to input two\n",
        "sets of strings. Then print the elements that are present in\n",
        "the first set but not in the second set."
      ],
      "metadata": {
        "id": "7Oih0QoGhp-3"
      }
    },
    {
      "cell_type": "code",
      "source": [
        "set1 = set(input(\"Enter elements of the first set separated by spaces:\").split())\n",
        "set2 = set(input(\"Enter elements of the second set separated by spaces: \").split())\n",
        "difference = set1 - set2\n",
        "print(\"Elements present in the first set but not in the second set:\",\n",
        "difference)"
      ],
      "metadata": {
        "id": "sKreRbWThsZT",
        "colab": {
          "base_uri": "https://localhost:8080/"
        },
        "outputId": "843d4667-b20e-46d2-9780-e79d730a552b"
      },
      "execution_count": 35,
      "outputs": [
        {
          "output_type": "stream",
          "name": "stdout",
          "text": [
            "Enter elements of the first set separated by spaces:a,b,c,d\n",
            "Enter elements of the second set separated by spaces: a,b,r,t\n",
            "Elements present in the first set but not in the second set: {'a,b,c,d'}\n"
          ]
        }
      ]
    },
    {
      "cell_type": "markdown",
      "source": [
        "Q.25.Create a code that takes a tuple and two integers as\n",
        "input. The function should return a new tuple containing\n",
        "elements from the original tuple within the specified range\n",
        "of indices\n"
      ],
      "metadata": {
        "id": "hrpYgZlkh9Wj"
      }
    },
    {
      "cell_type": "code",
      "source": [
        "def slice_tuple(original_tuple, start, end):\n",
        " return original_tuple[start:end]\n",
        "input_tuple = tuple(input(\"Enter the elements of the tuple separated by spaces: \").split())\n",
        "start_index = int(input(\"Enter the starting index: \"))\n",
        "end_index = int(input(\"Enter the ending index: \"))\n",
        "result = slice_tuple(input_tuple, start_index, end_index)\n",
        "print(\"New tuple containing elements within the specified range:\",\n",
        "result)"
      ],
      "metadata": {
        "id": "0cVLJZXyh-ia",
        "colab": {
          "base_uri": "https://localhost:8080/"
        },
        "outputId": "7b1408fb-38c6-4319-fa01-a3e3ff20219b"
      },
      "execution_count": 36,
      "outputs": [
        {
          "output_type": "stream",
          "name": "stdout",
          "text": [
            "Enter the elements of the tuple separated by spaces: s,a,n,a\n",
            "Enter the starting index: 1\n",
            "Enter the ending index: 4\n",
            "New tuple containing elements within the specified range: ()\n"
          ]
        }
      ]
    },
    {
      "cell_type": "markdown",
      "source": [
        "Q.26.Write a code that prompts the user to input two sets\n",
        "of characters. Then print the union of these two sets"
      ],
      "metadata": {
        "id": "ZU8h3jNjiCkG"
      }
    },
    {
      "cell_type": "code",
      "source": [
        "def get_char_set(prompt):\n",
        " user_input = input(prompt)\n",
        " return set(user_input)\n",
        "set1 = get_char_set(\"Enter characters for the first set (no spaces):\")\n",
        "set2 = get_char_set(\"Enter characters for the second set (no spaces):\")\n",
        "union_set = set1 | set2\n",
        "print(\"Union of the two sets:\", union_set)\n"
      ],
      "metadata": {
        "id": "93o6XD5riDuP",
        "colab": {
          "base_uri": "https://localhost:8080/"
        },
        "outputId": "e2b18257-f069-404b-c7c6-19164110d3de"
      },
      "execution_count": 37,
      "outputs": [
        {
          "output_type": "stream",
          "name": "stdout",
          "text": [
            "Enter characters for the first set (no spaces):abcdef\n",
            "Enter characters for the second set (no spaces):sdhgfh\n",
            "Union of the two sets: {'b', 's', 'h', 'f', 'e', 'g', 'd', 'c', 'a'}\n"
          ]
        }
      ]
    },
    {
      "cell_type": "markdown",
      "source": [
        "Q.27.Develop a code that takes a tuple of integers as input.\n",
        "The function should return the maximum and minimum\n",
        "values from the tuple using tuple unpacking"
      ],
      "metadata": {
        "id": "5Aa9k06-iJlB"
      }
    },
    {
      "cell_type": "code",
      "source": [
        "def find_max_min(numbers):\n",
        "\n",
        " max_value = max(numbers)\n",
        " min_value = min(numbers)\n",
        " return max_value, min_value\n",
        "input_tuple = tuple(map(int, input(\"Enter integers separated by spaces: \").split()))\n",
        "max_val, min_val = find_max_min(input_tuple)\n",
        "print(f\"Maximum value: {max_val}, Minimum value: {min_val}\")\n"
      ],
      "metadata": {
        "id": "wolOZEiyiMaE",
        "colab": {
          "base_uri": "https://localhost:8080/"
        },
        "outputId": "6fa4f5b5-75dd-499b-9db7-1143cd67a931"
      },
      "execution_count": 39,
      "outputs": [
        {
          "output_type": "stream",
          "name": "stdout",
          "text": [
            "Enter integers separated by spaces: 1 2 3 4\n",
            "Maximum value: 4, Minimum value: 1\n"
          ]
        }
      ]
    },
    {
      "cell_type": "markdown",
      "source": [
        "Q.28.Create a code that defines two sets of integers. Then,\n",
        "print the union, intersection , and difference of these two\n",
        "sets"
      ],
      "metadata": {
        "id": "w1ZAIeDxiPEO"
      }
    },
    {
      "cell_type": "code",
      "source": [
        "set1 = {1, 2, 3, 4, 5}\n",
        "set2 = {4, 5, 6, 7, 8}\n",
        "union_set = set1 | set2\n",
        "intersection_set = set1 & set2\n",
        "difference_set = set1 - set2\n",
        "print(\"Set 1:\", set1)\n",
        "print(\"Set 2:\", set2)\n",
        "print(\"Union of the sets:\", union_set)\n",
        "print(\"Intersection of the sets:\", intersection_set)\n",
        "print(\"Difference of the sets (Set 1 - Set 2):\", difference_set)\n"
      ],
      "metadata": {
        "id": "wTnCvdSkiROx",
        "colab": {
          "base_uri": "https://localhost:8080/"
        },
        "outputId": "4f804b33-c540-4cd4-f83a-0d08569177ab"
      },
      "execution_count": 40,
      "outputs": [
        {
          "output_type": "stream",
          "name": "stdout",
          "text": [
            "Set 1: {1, 2, 3, 4, 5}\n",
            "Set 2: {4, 5, 6, 7, 8}\n",
            "Union of the sets: {1, 2, 3, 4, 5, 6, 7, 8}\n",
            "Intersection of the sets: {4, 5}\n",
            "Difference of the sets (Set 1 - Set 2): {1, 2, 3}\n"
          ]
        }
      ]
    },
    {
      "cell_type": "markdown",
      "source": [
        "Q.29.Write a code that takes a tuple and an element as\n",
        "input. The function should return the count of occurrences\n",
        "of the given element in the tuple."
      ],
      "metadata": {
        "id": "76aor93ViU1L"
      }
    },
    {
      "cell_type": "code",
      "source": [
        "def count_occurrences(tup, element):\n",
        "\n",
        " return tup.count(element)\n",
        "input_tuple = tuple(input(\"Enter the elements of the tuple separated by spaces: \").split())\n",
        "element = input(\"Enter the element to count its occurrences: \")\n",
        "occurrence_count = count_occurrences(input_tuple, element)\n",
        "print(f\"The element '{element}' occurs {occurrence_count} times in the tuple.\")\n"
      ],
      "metadata": {
        "id": "h94rtZeBiXr9",
        "colab": {
          "base_uri": "https://localhost:8080/"
        },
        "outputId": "905936fd-03d3-40fe-cbe2-c777fa1d40dd"
      },
      "execution_count": 42,
      "outputs": [
        {
          "output_type": "stream",
          "name": "stdout",
          "text": [
            "Enter the elements of the tuple separated by spaces: a s d f\n",
            "Enter the element to count its occurrences: s\n",
            "The element 's' occurs 1 times in the tuple.\n"
          ]
        }
      ]
    },
    {
      "cell_type": "markdown",
      "source": [
        "Q.30.Develop a code that prompts the user to input two\n",
        "sets of strings. Then print the symmetric difference of\n",
        "these two sets."
      ],
      "metadata": {
        "id": "kgByzZbniaVc"
      }
    },
    {
      "cell_type": "code",
      "source": [
        "def get_input_set(prompt):\n",
        " user_input = input(prompt)\n",
        " return set(user_input.split())\n",
        "set1 = get_input_set(\"Enter elements of the first set separated by spaces: \")\n",
        "set2 = get_input_set(\"Enter elements of the second set separated by spaces: \")\n",
        "symmetric_difference_set = set1 ^ set2\n",
        "print(\"Symmetric difference of the two sets:\",\n",
        "symmetric_difference_set)"
      ],
      "metadata": {
        "id": "ynseApGQicqO",
        "colab": {
          "base_uri": "https://localhost:8080/"
        },
        "outputId": "fa961d59-c062-4e33-c3eb-205881fe6340"
      },
      "execution_count": 43,
      "outputs": [
        {
          "output_type": "stream",
          "name": "stdout",
          "text": [
            "Enter elements of the first set separated by spaces: a s d f g\n",
            "Enter elements of the second set separated by spaces: s d c v f\n",
            "Symmetric difference of the two sets: {'c', 'v', 'g', 'a'}\n"
          ]
        }
      ]
    },
    {
      "cell_type": "markdown",
      "source": [
        "Q.31. Write a code that takes a list of words as input and\n",
        "returns a dictionary where the keys are unique words and\n",
        "the values are the frequencies of those words in the input\n",
        "list."
      ],
      "metadata": {
        "id": "U-S9lJLgig_A"
      }
    },
    {
      "cell_type": "code",
      "source": [
        "def word_frequencies(word_list):\n",
        " frequency_dict = {}\n",
        "\n",
        " for word in word_list:\n",
        "  if word in frequency_dict:\n",
        "    frequency_dict[word] += 1\n",
        "  else:\n",
        "    frequency_dict[word] = 1\n",
        "    return frequency_dict\n",
        "input_words = input(\"Enter a list of words separated by spaces:\").split()\n",
        "frequencies = word_frequencies(input_words)\n",
        "print(\"Word frequencies:\", frequencies)"
      ],
      "metadata": {
        "id": "zYbVxVw8ijj6",
        "colab": {
          "base_uri": "https://localhost:8080/"
        },
        "outputId": "fdecfc8d-7f66-4d3b-8177-e4d3e57cba93"
      },
      "execution_count": 45,
      "outputs": [
        {
          "output_type": "stream",
          "name": "stdout",
          "text": [
            "Enter a list of words separated by spaces:sana dfgh erdf \n",
            "Word frequencies: {'sana': 1}\n"
          ]
        }
      ]
    },
    {
      "cell_type": "markdown",
      "source": [
        "Q.32.Write a code that takes two dictionaries as input and\n",
        "merges them into a single dictionary. If there are common\n",
        "keys the values should be added together.\n"
      ],
      "metadata": {
        "id": "j03vOnbrimHp"
      }
    },
    {
      "cell_type": "code",
      "source": [
        "def merge_dictionaries(dict1, dict2):\n",
        " merged_dict = dict1.copy()\n",
        " for key, value in dict2.items():\n",
        "  if key in merged_dict:\n",
        "    merged_dict[key] += value\n",
        "  else:\n",
        "    merged_dict[key] = value\n",
        "    return merged_dict\n",
        "dict1 = {'a': 1, 'b': 2, 'c': 3}\n",
        "dict2 = {'b': 3, 'c': 4, 'd': 5}\n",
        "merged_dict = merge_dictionaries(dict1, dict2)\n",
        "print(\"Merged dictionary:\", merged_dict)\n"
      ],
      "metadata": {
        "id": "F_U40iqLiqic",
        "colab": {
          "base_uri": "https://localhost:8080/"
        },
        "outputId": "bb2862a6-ce38-4ca2-d546-d3310cd2c649"
      },
      "execution_count": 46,
      "outputs": [
        {
          "output_type": "stream",
          "name": "stdout",
          "text": [
            "Merged dictionary: {'a': 1, 'b': 5, 'c': 7, 'd': 5}\n"
          ]
        }
      ]
    },
    {
      "cell_type": "markdown",
      "source": [
        "Q.33.Write a code to access a value in a nested dictionary.\n",
        "The function should take the dictionary and a list of keys as\n",
        "input and return the corresponding value. If any of the keys\n",
        "do not exist in the dictionary the function should return\n",
        "None"
      ],
      "metadata": {
        "id": "D4WCVoz5is__"
      }
    },
    {
      "cell_type": "code",
      "source": [
        "def get_nested_value(d, keys):\n",
        "    # d: the dictionary\n",
        "    # keys: the list of keys to navigate through the dictionary\n",
        "    for key in keys:\n",
        "        # Check if the key exists in the current dictionary\n",
        "        if isinstance(d, dict) and key in d:\n",
        "            d = d[key]\n",
        "        else:\n",
        "            return None  # Return None if the key doesn't exist\n",
        "    return d  # Return the value if all keys exist\n",
        "\n",
        "# Example usage:\n",
        "nested_dict = {\n",
        "    'a': {\n",
        "        'b': {\n",
        "            'c': 42\n",
        "        }\n",
        "    }\n",
        "}\n",
        "\n",
        "keys = ['a', 'b', 'c']\n",
        "print(get_nested_value(nested_dict, keys))  # Output: 42\n",
        "\n",
        "# If any key doesn't exist:\n",
        "keys = ['a', 'x', 'c']\n",
        "print(get_nested_value(nested_dict, keys))  # Output: None\n"
      ],
      "metadata": {
        "id": "QG9UdWd4jCVM",
        "colab": {
          "base_uri": "https://localhost:8080/"
        },
        "outputId": "42e241c5-a909-42df-d51a-6d8eb8069c02"
      },
      "execution_count": 47,
      "outputs": [
        {
          "output_type": "stream",
          "name": "stdout",
          "text": [
            "42\n",
            "None\n"
          ]
        }
      ]
    },
    {
      "cell_type": "markdown",
      "source": [
        "34.Write a code that takes a dictionary as input and returns\n",
        "a sorted version of it based on the values. You can choose\n",
        "whether to sort in ascending or descending order"
      ],
      "metadata": {
        "id": "zw19GMtwjSNm"
      }
    },
    {
      "cell_type": "code",
      "source": [
        "def sort_dict_by_values(input_dict, ascending=True):\n",
        "\n",
        " sorted_items = sorted(input_dict.items(), key=lambda item:\n",
        "item[1], reverse=not ascending)\n",
        " return dict(sorted_items)\n",
        "example_dict = {'apple': 5, 'banana': 2, 'cherry': 7, 'date': 1}\n",
        "sorted_dict_ascending = sort_dict_by_values(example_dict,\n",
        "ascending=True)\n",
        "print(\"Sorted dictionary (ascending):\", sorted_dict_ascending)\n",
        "sorted_dict_descending = sort_dict_by_values(example_dict,\n",
        "ascending=False)\n",
        "print(\"Sorted dictionary (descending):\", sorted_dict_descending)"
      ],
      "metadata": {
        "id": "lkGsiLgbjVGT",
        "colab": {
          "base_uri": "https://localhost:8080/"
        },
        "outputId": "d44b7890-effb-4c33-da4c-968a43413cef"
      },
      "execution_count": 48,
      "outputs": [
        {
          "output_type": "stream",
          "name": "stdout",
          "text": [
            "Sorted dictionary (ascending): {'date': 1, 'banana': 2, 'apple': 5, 'cherry': 7}\n",
            "Sorted dictionary (descending): {'cherry': 7, 'apple': 5, 'banana': 2, 'date': 1}\n"
          ]
        }
      ]
    },
    {
      "cell_type": "markdown",
      "source": [
        "Q.35.Write a code that inverts a dictionary swapping keys\n",
        "and values.Ensure that the inverted dictionary correctly\n",
        "handles cases where multiple keys have the same value by\n",
        "storing the keys as a list in the inverted dictionary.\n",
        "\n",
        "\n"
      ],
      "metadata": {
        "id": "uDR3NgkFjbNZ"
      }
    },
    {
      "cell_type": "code",
      "source": [
        "def invert_dictionary(input_dict):\n",
        "\n",
        " inverted_dict = {}\n",
        " for key, value in input_dict.items():\n",
        "  if value not in inverted_dict:\n",
        "    inverted_dict[value] = [key]\n",
        "  else:\n",
        "    inverted_dict[value].append(key)\n",
        "    return inverted_dict\n",
        "example_dict = {'apple': 1, 'banana': 2, 'cherry': 1, 'date': 2,\n",
        "'elderberry': 3}\n",
        "inverted_dict = invert_dictionary(example_dict)\n",
        "print(\"Inverted dictionary:\", inverted_dict)"
      ],
      "metadata": {
        "id": "qoRHhWoPjgAV",
        "colab": {
          "base_uri": "https://localhost:8080/"
        },
        "outputId": "7fa145d9-03ec-43d8-8886-519cdd2ea5bb"
      },
      "execution_count": 50,
      "outputs": [
        {
          "output_type": "stream",
          "name": "stdout",
          "text": [
            "Inverted dictionary: {1: ['apple', 'cherry'], 2: ['banana']}\n"
          ]
        }
      ]
    },
    {
      "cell_type": "markdown",
      "source": [],
      "metadata": {
        "id": "4HOijKrQiqC7"
      }
    }
  ]
}